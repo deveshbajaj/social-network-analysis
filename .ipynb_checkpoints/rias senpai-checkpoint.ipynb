{
 "cells": [
  {
   "cell_type": "code",
   "execution_count": 47,
   "metadata": {},
   "outputs": [],
   "source": [
    "import pandas\n",
    "df = pandas.read_csv(\"sin_dataset.csv\")\n",
    "df = df.set_index(\"Countries\")\n",
    "power_d = 0\n",
    "node_d = \"\""
   ]
  },
  {
   "cell_type": "code",
   "execution_count": 48,
   "metadata": {},
   "outputs": [
    {
     "data": {
      "text/plain": [
       "0"
      ]
     },
     "execution_count": 48,
     "metadata": {},
     "output_type": "execute_result"
    }
   ],
   "source": [
    "df.iloc[0,0]"
   ]
  },
  {
   "cell_type": "code",
   "execution_count": 20,
   "metadata": {},
   "outputs": [],
   "source": [
    "def printer(message):\n",
    "    print(message)\n",
    "    print(\"Degree centrality = \"+str(power_d)+\" of node \"+str(node_d))"
   ]
  },
  {
   "cell_type": "code",
   "execution_count": 21,
   "metadata": {},
   "outputs": [],
   "source": [
    "def find_current_powers():\n",
    "    power_d = degree_centrality()\n",
    "    message = \"The initial power centers are: \"\n",
    "    printer(message)"
   ]
  },
  {
   "cell_type": "code",
   "execution_count": 49,
   "metadata": {},
   "outputs": [],
   "source": [
    "def link_prediction():\n",
    "    india = 7\n",
    "    len = 22\n",
    "    for fix in range(0,len):\n",
    "        if fix == india:\n",
    "            continue\n",
    "        elif fix >= 1:\n",
    "            if df.iloc[india,fix] == 1:\n",
    "                continue\n",
    "            else:\n",
    "                df.iloc[india,fix]=1\n",
    "                fixed = 1\n",
    "        for col in range(1,len):\n",
    "            if col == india:\n",
    "                continue\n",
    "            if df.iloc[india,col]==1:\n",
    "                continue\n",
    "            else:\n",
    "                df.loc[india,col]=1\n",
    "                find_new_powers(india,col,fix)\n",
    "                df.iloc[india,col]=0\n",
    "        if fixed == 1:\n",
    "            df.iloc[india,fix] = 0"
   ]
  },
  {
   "cell_type": "code",
   "execution_count": 50,
   "metadata": {},
   "outputs": [],
   "source": [
    "def find_new_powers(india,col,fix):\n",
    "    #power_d = degree_centrality(india)\n",
    "    #power_c = closeness_centrality(india)\n",
    "    #power_b = betweenness_centrality(india)\n",
    "    message = \"Case:\"+counter+\" If india makes relations with \"\n",
    "    if fix == 0:\n",
    "        #do this\n",
    "        message = message + str(df.iloc[0,col])\n",
    "    else:\n",
    "        #do that\n",
    "        message = message + str(df.iloc[0,col]) + \"and\" + str(df.iloc[0,fix])\n",
    "    message = \", its new centrality will be: \"\n",
    "    printer(message)"
   ]
  },
  {
   "cell_type": "code",
   "execution_count": 51,
   "metadata": {},
   "outputs": [],
   "source": [
    "def degree_centrality():\n",
    "    #print max degree\n",
    "    #print column header and col sum of max sum\n",
    "    x=0"
   ]
  },
  {
   "cell_type": "code",
   "execution_count": 52,
   "metadata": {},
   "outputs": [
    {
     "name": "stdout",
     "output_type": "stream",
     "text": [
      "The initial power centers are: \n",
      "Degree centrality = 0 of node \n"
     ]
    },
    {
     "ename": "TypeError",
     "evalue": "degree_centrality() takes 0 positional arguments but 1 was given",
     "output_type": "error",
     "traceback": [
      "\u001b[0;31m---------------------------------------------------------------------------\u001b[0m",
      "\u001b[0;31mTypeError\u001b[0m                                 Traceback (most recent call last)",
      "\u001b[0;32m<ipython-input-52-5d0bcd57d70b>\u001b[0m in \u001b[0;36m<module>\u001b[0;34m()\u001b[0m\n\u001b[1;32m      1\u001b[0m \u001b[0mfind_current_powers\u001b[0m\u001b[0;34m(\u001b[0m\u001b[0;34m)\u001b[0m\u001b[0;34m\u001b[0m\u001b[0m\n\u001b[0;32m----> 2\u001b[0;31m \u001b[0mlink_prediction\u001b[0m\u001b[0;34m(\u001b[0m\u001b[0;34m)\u001b[0m\u001b[0;34m\u001b[0m\u001b[0m\n\u001b[0m",
      "\u001b[0;32m<ipython-input-49-fb65ee1808fb>\u001b[0m in \u001b[0;36mlink_prediction\u001b[0;34m()\u001b[0m\n\u001b[1;32m     18\u001b[0m             \u001b[0;32melse\u001b[0m\u001b[0;34m:\u001b[0m\u001b[0;34m\u001b[0m\u001b[0m\n\u001b[1;32m     19\u001b[0m                 \u001b[0mdf\u001b[0m\u001b[0;34m.\u001b[0m\u001b[0mloc\u001b[0m\u001b[0;34m[\u001b[0m\u001b[0mindia\u001b[0m\u001b[0;34m,\u001b[0m\u001b[0mcol\u001b[0m\u001b[0;34m]\u001b[0m\u001b[0;34m=\u001b[0m\u001b[0;36m1\u001b[0m\u001b[0;34m\u001b[0m\u001b[0m\n\u001b[0;32m---> 20\u001b[0;31m                 \u001b[0mfind_new_powers\u001b[0m\u001b[0;34m(\u001b[0m\u001b[0mindia\u001b[0m\u001b[0;34m,\u001b[0m\u001b[0mcol\u001b[0m\u001b[0;34m,\u001b[0m\u001b[0mfix\u001b[0m\u001b[0;34m)\u001b[0m\u001b[0;34m\u001b[0m\u001b[0m\n\u001b[0m\u001b[1;32m     21\u001b[0m                 \u001b[0mdf\u001b[0m\u001b[0;34m.\u001b[0m\u001b[0miloc\u001b[0m\u001b[0;34m[\u001b[0m\u001b[0mindia\u001b[0m\u001b[0;34m,\u001b[0m\u001b[0mcol\u001b[0m\u001b[0;34m]\u001b[0m\u001b[0;34m=\u001b[0m\u001b[0;36m0\u001b[0m\u001b[0;34m\u001b[0m\u001b[0m\n\u001b[1;32m     22\u001b[0m         \u001b[0;32mif\u001b[0m \u001b[0mfixed\u001b[0m \u001b[0;34m==\u001b[0m \u001b[0;36m1\u001b[0m\u001b[0;34m:\u001b[0m\u001b[0;34m\u001b[0m\u001b[0m\n",
      "\u001b[0;32m<ipython-input-50-aa6dbfa6ad8a>\u001b[0m in \u001b[0;36mfind_new_powers\u001b[0;34m(india, col, fix)\u001b[0m\n\u001b[1;32m      1\u001b[0m \u001b[0;32mdef\u001b[0m \u001b[0mfind_new_powers\u001b[0m\u001b[0;34m(\u001b[0m\u001b[0mindia\u001b[0m\u001b[0;34m,\u001b[0m\u001b[0mcol\u001b[0m\u001b[0;34m,\u001b[0m\u001b[0mfix\u001b[0m\u001b[0;34m)\u001b[0m\u001b[0;34m:\u001b[0m\u001b[0;34m\u001b[0m\u001b[0m\n\u001b[0;32m----> 2\u001b[0;31m     \u001b[0mpower_d\u001b[0m \u001b[0;34m=\u001b[0m \u001b[0mdegree_centrality\u001b[0m\u001b[0;34m(\u001b[0m\u001b[0mindia\u001b[0m\u001b[0;34m)\u001b[0m\u001b[0;34m\u001b[0m\u001b[0m\n\u001b[0m\u001b[1;32m      3\u001b[0m     \u001b[0;31m#power_c = closeness_centrality(india)\u001b[0m\u001b[0;34m\u001b[0m\u001b[0;34m\u001b[0m\u001b[0m\n\u001b[1;32m      4\u001b[0m     \u001b[0;31m#power_b = betweenness_centrality(india)\u001b[0m\u001b[0;34m\u001b[0m\u001b[0;34m\u001b[0m\u001b[0m\n\u001b[1;32m      5\u001b[0m     \u001b[0mmessage\u001b[0m \u001b[0;34m=\u001b[0m \u001b[0;34m\"Case:\"\u001b[0m\u001b[0;34m+\u001b[0m\u001b[0mcounter\u001b[0m\u001b[0;34m+\u001b[0m\u001b[0;34m\" If india makes relations with \"\u001b[0m\u001b[0;34m\u001b[0m\u001b[0m\n",
      "\u001b[0;31mTypeError\u001b[0m: degree_centrality() takes 0 positional arguments but 1 was given"
     ]
    }
   ],
   "source": [
    "find_current_powers()\n",
    "link_prediction()"
   ]
  },
  {
   "cell_type": "code",
   "execution_count": null,
   "metadata": {},
   "outputs": [],
   "source": []
  }
 ],
 "metadata": {
  "kernelspec": {
   "display_name": "Python 3",
   "language": "python",
   "name": "python3"
  },
  "language_info": {
   "codemirror_mode": {
    "name": "ipython",
    "version": 3
   },
   "file_extension": ".py",
   "mimetype": "text/x-python",
   "name": "python",
   "nbconvert_exporter": "python",
   "pygments_lexer": "ipython3",
   "version": "3.5.2"
  }
 },
 "nbformat": 4,
 "nbformat_minor": 2
}
