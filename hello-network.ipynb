{
 "cells": [
  {
   "cell_type": "code",
   "execution_count": 4,
   "metadata": {},
   "outputs": [],
   "source": [
    "import networkx as nx\n",
    "import pandas\n",
    "import pylab as plt  #import Matplotlib plotting interface\n",
    "\n",
    "df = pandas.read_csv(\"sin_dataset.csv\")\n",
    "df = df.set_index(\"Countries\")\n",
    "f = open('myfile.adjlist', 'w')\n",
    "for i in range(0,20):\n",
    "    #write row country in same line\n",
    "    row = df.index[i]\n",
    "    f.write(row)\n",
    "    for j in range(0,20):\n",
    "        if df.iloc[i,j] == 1:\n",
    "            #write column country in same line\n",
    "            col = df.columns[j]\n",
    "            f.write(\" \"+col)\n",
    "    #new line\n",
    "    if(i != 19):\n",
    "        f.write(\"\\n\")\n",
    "f.close()\n",
    "fh=open(\"myfile.adjlist\", 'rb')\n",
    "G=nx.read_adjlist(fh)\n",
    "\n",
    "def draw_graph():\n",
    "    graph_pos = nx.spring_layout(G)\n",
    "    # draw nodes, edges and labels\n",
    "    nx.draw_networkx_nodes(G, graph_pos, node_size=250  , node_color='blue', alpha=0.15)\n",
    "    nx.draw_networkx_edges(G, graph_pos, edge_color='red')\n",
    "    nx.draw_networkx_labels(G, graph_pos, font_size=10, font_family='sans-serif', font_color='black')\n",
    "    plt.savefig(\"graph.png\")\n",
    "    # show graph\n",
    "    #plt.show()\n",
    "draw_graph()"
   ]
  },
  {
   "cell_type": "code",
   "execution_count": null,
   "metadata": {},
   "outputs": [],
   "source": []
  }
 ],
 "metadata": {
  "kernelspec": {
   "display_name": "Python 3",
   "language": "python",
   "name": "python3"
  },
  "language_info": {
   "codemirror_mode": {
    "name": "ipython",
    "version": 3
   },
   "file_extension": ".py",
   "mimetype": "text/x-python",
   "name": "python",
   "nbconvert_exporter": "python",
   "pygments_lexer": "ipython3",
   "version": "3.5.2"
  }
 },
 "nbformat": 4,
 "nbformat_minor": 2
}
